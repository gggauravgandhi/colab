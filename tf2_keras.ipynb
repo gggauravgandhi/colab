{
  "nbformat": 4,
  "nbformat_minor": 0,
  "metadata": {
    "colab": {
      "name": "tf2-keras.ipynb",
      "version": "0.3.2",
      "provenance": [],
      "include_colab_link": true
    },
    "kernelspec": {
      "name": "python3",
      "display_name": "Python 3"
    },
    "accelerator": "GPU"
  },
  "cells": [
    {
      "cell_type": "markdown",
      "metadata": {
        "id": "view-in-github",
        "colab_type": "text"
      },
      "source": [
        "<a href=\"https://colab.research.google.com/github/gggauravgandhi/colab/blob/master/tf2_keras.ipynb\" target=\"_parent\"><img src=\"https://colab.research.google.com/assets/colab-badge.svg\" alt=\"Open In Colab\"/></a>"
      ]
    },
    {
      "metadata": {
        "id": "jZ_3meaUcRbG",
        "colab_type": "code",
        "colab": {}
      },
      "cell_type": "code",
      "source": [
        "import tensorflow as tf"
      ],
      "execution_count": 0,
      "outputs": []
    },
    {
      "metadata": {
        "id": "IYP26kRUc4m2",
        "colab_type": "code",
        "colab": {}
      },
      "cell_type": "code",
      "source": [
        "mnist = tf.keras.datasets.mnist\n",
        "\n",
        "(train_features, train_label), (test_features, test_label) = mnist.load_data()"
      ],
      "execution_count": 0,
      "outputs": []
    },
    {
      "metadata": {
        "id": "HGraa3kSdLEi",
        "colab_type": "text"
      },
      "cell_type": "markdown",
      "source": [
        "### Standaraziation\n",
        "\n",
        "*Dividing each value with max value for that feature*  \n",
        "\n",
        "Max value for pixel is  255"
      ]
    },
    {
      "metadata": {
        "id": "UtG14vXEdz65",
        "colab_type": "code",
        "colab": {}
      },
      "cell_type": "code",
      "source": [
        "max_value = 255.0\n",
        "\n",
        "train_features, test_features = train_features / max_value, test_features / max_value"
      ],
      "execution_count": 0,
      "outputs": []
    },
    {
      "metadata": {
        "id": "rJ2c-4EHeF03",
        "colab_type": "text"
      },
      "cell_type": "markdown",
      "source": [
        "### Create Network / Model "
      ]
    },
    {
      "metadata": {
        "id": "xJ7vOcbGeL1N",
        "colab_type": "code",
        "colab": {}
      },
      "cell_type": "code",
      "source": [
        "model = tf.keras.models.Sequential()"
      ],
      "execution_count": 0,
      "outputs": []
    },
    {
      "metadata": {
        "id": "yB3ZYwHgeY_s",
        "colab_type": "code",
        "colab": {}
      },
      "cell_type": "code",
      "source": [
        "model.add(tf.keras.layers.Flatten())\n",
        "\n",
        "model.add(tf.keras.layers.Dense(512, activation=tf.nn.relu))\n",
        "model.add(tf.keras.layers.Dropout(0.3))\n",
        "\n",
        "model.add(tf.keras.layers.Dense(128, activation=tf.nn.relu))\n",
        "model.add(tf.keras.layers.Dropout(0.2))\n",
        "\n",
        "model.add(tf.keras.layers.Dense(32, activation=tf.nn.relu))\n",
        "model.add(tf.keras.layers.Dropout(0.1))\n",
        "\n",
        "model.add(tf.keras.layers.Dense(10, activation=tf.nn.softmax))"
      ],
      "execution_count": 0,
      "outputs": []
    },
    {
      "metadata": {
        "id": "_iu6xJATezxX",
        "colab_type": "code",
        "colab": {}
      },
      "cell_type": "code",
      "source": [
        "model.compile(optimizer='adam', \n",
        "             loss='sparse_categorical_crossentropy',\n",
        "             metrics=['accuracy'])"
      ],
      "execution_count": 0,
      "outputs": []
    },
    {
      "metadata": {
        "id": "x-VwkZwCdP9I",
        "colab_type": "text"
      },
      "cell_type": "markdown",
      "source": [
        "### Training network"
      ]
    },
    {
      "metadata": {
        "id": "w4qMLPP9dPNw",
        "colab_type": "code",
        "outputId": "d147f585-ceb9-4ccc-b6f6-1329161908de",
        "colab": {
          "base_uri": "https://localhost:8080/",
          "height": 269
        }
      },
      "cell_type": "code",
      "source": [
        "%%time\n",
        "\n",
        "model.fit(train_features, train_label,\n",
        "          validation_split=0.1,\n",
        "          epochs=5, batch_size=100)"
      ],
      "execution_count": 24,
      "outputs": [
        {
          "output_type": "stream",
          "text": [
            "Train on 54000 samples, validate on 6000 samples\n",
            "Epoch 1/5\n",
            "54000/54000 [==============================] - 5s 98us/step - loss: 0.2820 - acc: 0.9154 - val_loss: 0.1024 - val_acc: 0.9702\n",
            "Epoch 2/5\n",
            "54000/54000 [==============================] - 5s 85us/step - loss: 0.0971 - acc: 0.9705 - val_loss: 0.0850 - val_acc: 0.9747\n",
            "Epoch 3/5\n",
            "54000/54000 [==============================] - 5s 85us/step - loss: 0.0596 - acc: 0.9816 - val_loss: 0.0831 - val_acc: 0.9763\n",
            "Epoch 4/5\n",
            "54000/54000 [==============================] - 5s 86us/step - loss: 0.0437 - acc: 0.9859 - val_loss: 0.0776 - val_acc: 0.9773\n",
            "Epoch 5/5\n",
            "54000/54000 [==============================] - 5s 86us/step - loss: 0.0327 - acc: 0.9895 - val_loss: 0.0811 - val_acc: 0.9790\n",
            "CPU times: user 26.9 s, sys: 3.5 s, total: 30.4 s\n",
            "Wall time: 24.8 s\n"
          ],
          "name": "stdout"
        },
        {
          "output_type": "execute_result",
          "data": {
            "text/plain": [
              "<tensorflow.python.keras.callbacks.History at 0x7f29198ffc88>"
            ]
          },
          "metadata": {
            "tags": []
          },
          "execution_count": 24
        }
      ]
    },
    {
      "metadata": {
        "id": "Tpln4kC_cgne",
        "colab_type": "code",
        "outputId": "2278557b-f33d-48a2-f065-48c90698c68d",
        "colab": {
          "base_uri": "https://localhost:8080/",
          "height": 53
        }
      },
      "cell_type": "code",
      "source": [
        "model.evaluate(test_features, test_label)"
      ],
      "execution_count": 25,
      "outputs": [
        {
          "output_type": "stream",
          "text": [
            "10000/10000 [==============================] - 1s 86us/step\n"
          ],
          "name": "stdout"
        },
        {
          "output_type": "execute_result",
          "data": {
            "text/plain": [
              "[0.07968981693968526, 0.9772]"
            ]
          },
          "metadata": {
            "tags": []
          },
          "execution_count": 25
        }
      ]
    },
    {
      "metadata": {
        "id": "erm_4XEUhIUB",
        "colab_type": "code",
        "colab": {}
      },
      "cell_type": "code",
      "source": [
        ""
      ],
      "execution_count": 0,
      "outputs": []
    }
  ]
}