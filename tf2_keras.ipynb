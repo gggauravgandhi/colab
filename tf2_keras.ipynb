{
  "nbformat": 4,
  "nbformat_minor": 0,
  "metadata": {
    "colab": {
      "name": "tf2-keras.ipynb",
      "version": "0.3.2",
      "provenance": [],
      "include_colab_link": true
    },
    "kernelspec": {
      "name": "python3",
      "display_name": "Python 3"
    },
    "accelerator": "GPU"
  },
  "cells": [
    {
      "cell_type": "markdown",
      "metadata": {
        "id": "view-in-github",
        "colab_type": "text"
      },
      "source": [
        "<a href=\"https://colab.research.google.com/github/gggauravgandhi/colab/blob/master/tf2_keras.ipynb\" target=\"_parent\"><img src=\"https://colab.research.google.com/assets/colab-badge.svg\" alt=\"Open In Colab\"/></a>"
      ]
    },
    {
      "metadata": {
        "id": "jZ_3meaUcRbG",
        "colab_type": "code",
        "colab": {}
      },
      "cell_type": "code",
      "source": [
        "import tensorflow as tf"
      ],
      "execution_count": 0,
      "outputs": []
    },
    {
      "metadata": {
        "id": "IYP26kRUc4m2",
        "colab_type": "code",
        "colab": {}
      },
      "cell_type": "code",
      "source": [
        "mnist = tf.keras.datasets.mnist\n",
        "\n",
        "(train_features, train_label), (test_features, test_label) = mnist.load_data()"
      ],
      "execution_count": 0,
      "outputs": []
    },
    {
      "metadata": {
        "id": "HGraa3kSdLEi",
        "colab_type": "text"
      },
      "cell_type": "markdown",
      "source": [
        "### Standaraziation\n",
        "\n",
        "*Dividing each value with max value for that feature*  \n",
        "\n",
        "Max value for pixel is  255"
      ]
    },
    {
      "metadata": {
        "id": "UtG14vXEdz65",
        "colab_type": "code",
        "colab": {}
      },
      "cell_type": "code",
      "source": [
        "max_value = 255.0\n",
        "\n",
        "train_features, test_features = train_features / max_value, test_features / max_value"
      ],
      "execution_count": 0,
      "outputs": []
    },
    {
      "metadata": {
        "id": "rJ2c-4EHeF03",
        "colab_type": "text"
      },
      "cell_type": "markdown",
      "source": [
        "### Create Network / Model "
      ]
    },
    {
      "metadata": {
        "id": "xJ7vOcbGeL1N",
        "colab_type": "code",
        "colab": {}
      },
      "cell_type": "code",
      "source": [
        "model = tf.keras.models.Sequential()"
      ],
      "execution_count": 0,
      "outputs": []
    },
    {
      "metadata": {
        "id": "yB3ZYwHgeY_s",
        "colab_type": "code",
        "colab": {}
      },
      "cell_type": "code",
      "source": [
        "model.add(tf.keras.layers.Flatten())\n",
        "\n",
        "model.add(tf.keras.layers.Dense(128, activation=tf.nn.relu))\n",
        "model.add(tf.keras.layers.Dropout(0.3))\n",
        "\n",
        "model.add(tf.keras.layers.Dense(64, activation=tf.nn.relu))\n",
        "model.add(tf.keras.layers.Dropout(0.2))\n",
        "\n",
        "model.add(tf.keras.layers.Dense(64, activation=tf.nn.relu))\n",
        "model.add(tf.keras.layers.Dropout(0.2))\n",
        "\n",
        "model.add(tf.keras.layers.Dense(32, activation=tf.nn.relu))\n",
        "model.add(tf.keras.layers.Dropout(0.2))\n",
        "\n",
        "model.add(tf.keras.layers.Dense(16, activation=tf.nn.relu))\n",
        "model.add(tf.keras.layers.Dropout(0.1))\n",
        "\n",
        "\n",
        "model.add(tf.keras.layers.Dense(10, activation=tf.nn.softmax))"
      ],
      "execution_count": 0,
      "outputs": []
    },
    {
      "metadata": {
        "id": "_iu6xJATezxX",
        "colab_type": "code",
        "colab": {}
      },
      "cell_type": "code",
      "source": [
        "model.compile(optimizer='adam', \n",
        "             loss='sparse_categorical_crossentropy',\n",
        "             metrics=['accuracy'])"
      ],
      "execution_count": 0,
      "outputs": []
    },
    {
      "metadata": {
        "id": "x-VwkZwCdP9I",
        "colab_type": "text"
      },
      "cell_type": "markdown",
      "source": [
        "### Training network"
      ]
    },
    {
      "metadata": {
        "id": "w4qMLPP9dPNw",
        "colab_type": "code",
        "colab": {
          "base_uri": "https://localhost:8080/",
          "height": 251
        },
        "outputId": "77948cc8-582d-408f-f304-8f0d7f6becb1"
      },
      "cell_type": "code",
      "source": [
        "%time model.fit(train_features, train_label, epochs=5, batch_size=30)"
      ],
      "execution_count": 31,
      "outputs": [
        {
          "output_type": "stream",
          "text": [
            "Epoch 1/5\n",
            "60000/60000 [==============================] - 19s 318us/step - loss: 0.2992 - acc: 0.9105\n",
            "Epoch 2/5\n",
            "60000/60000 [==============================] - 18s 308us/step - loss: 0.1148 - acc: 0.9661\n",
            "Epoch 3/5\n",
            "60000/60000 [==============================] - 18s 296us/step - loss: 0.0845 - acc: 0.9748\n",
            "Epoch 4/5\n",
            "60000/60000 [==============================] - 19s 309us/step - loss: 0.0670 - acc: 0.9793\n",
            "Epoch 5/5\n",
            "60000/60000 [==============================] - 19s 318us/step - loss: 0.0550 - acc: 0.9833\n",
            "CPU times: user 1min 41s, sys: 14.3 s, total: 1min 55s\n",
            "Wall time: 1min 34s\n"
          ],
          "name": "stdout"
        },
        {
          "output_type": "execute_result",
          "data": {
            "text/plain": [
              "<tensorflow.python.keras.callbacks.History at 0x7f67585f4c50>"
            ]
          },
          "metadata": {
            "tags": []
          },
          "execution_count": 31
        }
      ]
    },
    {
      "metadata": {
        "id": "Tpln4kC_cgne",
        "colab_type": "code",
        "colab": {
          "base_uri": "https://localhost:8080/",
          "height": 53
        },
        "outputId": "1f40e54d-5f94-4de9-a1eb-9670b7cfb57e"
      },
      "cell_type": "code",
      "source": [
        "model.evaluate(test_features, test_label)"
      ],
      "execution_count": 32,
      "outputs": [
        {
          "output_type": "stream",
          "text": [
            "10000/10000 [==============================] - 1s 104us/step\n"
          ],
          "name": "stdout"
        },
        {
          "output_type": "execute_result",
          "data": {
            "text/plain": [
              "[0.0908659056117991, 0.9759]"
            ]
          },
          "metadata": {
            "tags": []
          },
          "execution_count": 32
        }
      ]
    },
    {
      "metadata": {
        "id": "erm_4XEUhIUB",
        "colab_type": "code",
        "colab": {}
      },
      "cell_type": "code",
      "source": [
        ""
      ],
      "execution_count": 0,
      "outputs": []
    }
  ]
}