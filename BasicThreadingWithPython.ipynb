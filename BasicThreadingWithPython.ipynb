{
  "nbformat": 4,
  "nbformat_minor": 0,
  "metadata": {
    "colab": {
      "name": "BasicThreadingWithPython.ipynb",
      "provenance": [],
      "authorship_tag": "ABX9TyPp8vXOAQK/sOOxLsyE1Dr4",
      "include_colab_link": true
    },
    "kernelspec": {
      "name": "python3",
      "display_name": "Python 3"
    }
  },
  "cells": [
    {
      "cell_type": "markdown",
      "metadata": {
        "id": "view-in-github",
        "colab_type": "text"
      },
      "source": [
        "<a href=\"https://colab.research.google.com/github/gggauravgandhi/colab/blob/master/BasicThreadingWithPython.ipynb\" target=\"_parent\"><img src=\"https://colab.research.google.com/assets/colab-badge.svg\" alt=\"Open In Colab\"/></a>"
      ]
    },
    {
      "cell_type": "code",
      "metadata": {
        "id": "iEBpuR109y4f",
        "colab_type": "code",
        "colab": {}
      },
      "source": [
        "import logging\n",
        "import threading\n",
        "import time"
      ],
      "execution_count": 0,
      "outputs": []
    },
    {
      "cell_type": "code",
      "metadata": {
        "id": "gPVzoBWm91Vh",
        "colab_type": "code",
        "colab": {}
      },
      "source": [
        "def thread_function(name):\n",
        "    logging.info(\"Thread %s: starting\", name)\n",
        "    time.sleep(2)\n",
        "    logging.info(\"Thread %s: finishing\", name)"
      ],
      "execution_count": 0,
      "outputs": []
    },
    {
      "cell_type": "code",
      "metadata": {
        "id": "wqJtKq0093kJ",
        "colab_type": "code",
        "colab": {}
      },
      "source": [
        "format = \"%(asctime)s: %(message)s\"\n",
        "logging.basicConfig(format=format, level=logging.INFO, datefmt=\"%H:%M:%S\")"
      ],
      "execution_count": 0,
      "outputs": []
    },
    {
      "cell_type": "code",
      "metadata": {
        "id": "zDthE59S-Fqn",
        "colab_type": "code",
        "colab": {
          "base_uri": "https://localhost:8080/",
          "height": 187
        },
        "outputId": "1e954282-ca4b-457a-e246-16398ac724d3"
      },
      "source": [
        "logging.info(\"Main    : before creating thread\")\n",
        "x = threading.Thread(target=thread_function, args=(1,))\n",
        "y = threading.Thread(target=thread_function, args=(2,))\n",
        "z = threading.Thread(target=thread_function, args=(3,))\n",
        "logging.info(\"Main    : before running thread\")\n",
        "x.start()\n",
        "y.start()\n",
        "z.start()\n",
        "logging.info(\"Main    : wait for the thread to finish\")\n",
        "x.join()\n",
        "y.join()\n",
        "z.join()\n",
        "logging.info(\"Main    : all done\")"
      ],
      "execution_count": 10,
      "outputs": [
        {
          "output_type": "stream",
          "text": [
            "12:55:13: Main    : before creating thread\n",
            "12:55:13: Main    : before running thread\n",
            "12:55:13: Thread 1: starting\n",
            "12:55:13: Thread 2: starting\n",
            "12:55:13: Thread 3: starting\n",
            "12:55:13: Main    : wait for the thread to finish\n",
            "12:55:15: Thread 1: finishing\n",
            "12:55:15: Thread 2: finishing\n",
            "12:55:15: Thread 3: finishing\n",
            "12:55:15: Main    : all done\n"
          ],
          "name": "stderr"
        }
      ]
    },
    {
      "cell_type": "code",
      "metadata": {
        "id": "pgUhzjhr-PEC",
        "colab_type": "code",
        "colab": {}
      },
      "source": [
        ""
      ],
      "execution_count": 0,
      "outputs": []
    }
  ]
}