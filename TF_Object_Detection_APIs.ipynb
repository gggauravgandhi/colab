{
  "nbformat": 4,
  "nbformat_minor": 0,
  "metadata": {
    "colab": {
      "name": "TF Object Detection APIs",
      "provenance": [],
      "collapsed_sections": [],
      "authorship_tag": "ABX9TyPjV5fQxMehpgG+5J7iI4IY",
      "include_colab_link": true
    },
    "kernelspec": {
      "name": "python3",
      "display_name": "Python 3"
    }
  },
  "cells": [
    {
      "cell_type": "markdown",
      "metadata": {
        "id": "view-in-github",
        "colab_type": "text"
      },
      "source": [
        "<a href=\"https://colab.research.google.com/github/gggauravgandhi/colab/blob/master/TF_Object_Detection_APIs.ipynb\" target=\"_parent\"><img src=\"https://colab.research.google.com/assets/colab-badge.svg\" alt=\"Open In Colab\"/></a>"
      ]
    },
    {
      "cell_type": "code",
      "metadata": {
        "id": "_8QBz7O3rkXv",
        "colab_type": "code",
        "colab": {}
      },
      "source": [
        "import tensorflow as tf\n"
      ],
      "execution_count": 0,
      "outputs": []
    },
    {
      "cell_type": "code",
      "metadata": {
        "id": "aegweniHrqpx",
        "colab_type": "code",
        "outputId": "529b2dbb-5494-4d38-c31c-b87dec60fcdd",
        "colab": {
          "base_uri": "https://localhost:8080/",
          "height": 34
        }
      },
      "source": [
        "tf.__version__\n"
      ],
      "execution_count": 0,
      "outputs": [
        {
          "output_type": "execute_result",
          "data": {
            "text/plain": [
              "'2.2.0-rc2'"
            ]
          },
          "metadata": {
            "tags": []
          },
          "execution_count": 2
        }
      ]
    },
    {
      "cell_type": "code",
      "metadata": {
        "id": "6tY2JKzHrsCa",
        "colab_type": "code",
        "outputId": "aa7ed5ac-dd33-4a42-b002-2552a26dff33",
        "colab": {
          "base_uri": "https://localhost:8080/",
          "height": 34
        }
      },
      "source": [
        "\n",
        "!pip install pycocotools"
      ],
      "execution_count": 0,
      "outputs": [
        {
          "output_type": "stream",
          "text": [
            "Requirement already satisfied: pycocotools in /usr/local/lib/python3.6/dist-packages (2.0.0)\n"
          ],
          "name": "stdout"
        }
      ]
    },
    {
      "cell_type": "code",
      "metadata": {
        "id": "wdVX8uydsQHD",
        "colab_type": "code",
        "outputId": "071b68fc-ec5b-4443-a5cd-d95971f07356",
        "colab": {
          "base_uri": "https://localhost:8080/",
          "height": 153
        }
      },
      "source": [
        "import os\n",
        "import pathlib\n",
        "\n",
        "\n",
        "if \"models\" in pathlib.Path.cwd().parts:\n",
        "  while \"models\" in pathlib.Path.cwd().parts:\n",
        "    os.chdir('..')\n",
        "elif not pathlib.Path('models').exists():\n",
        "  !git clone --depth 1 https://github.com/tensorflow/models"
      ],
      "execution_count": 0,
      "outputs": [
        {
          "output_type": "stream",
          "text": [
            "Cloning into 'models'...\n",
            "remote: Enumerating objects: 2553, done.\u001b[K\n",
            "remote: Counting objects: 100% (2553/2553), done.\u001b[K\n",
            "remote: Compressing objects: 100% (2236/2236), done.\u001b[K\n",
            "remote: Total 2553 (delta 491), reused 1358 (delta 280), pack-reused 0\u001b[K\n",
            "Receiving objects: 100% (2553/2553), 124.06 MiB | 32.48 MiB/s, done.\n",
            "Resolving deltas: 100% (491/491), done.\n",
            "Checking out files: 100% (2465/2465), done.\n"
          ],
          "name": "stdout"
        }
      ]
    },
    {
      "cell_type": "code",
      "metadata": {
        "id": "pvg2z3bZsQjQ",
        "colab_type": "code",
        "colab": {}
      },
      "source": [
        "%%bash\n",
        "cd models/research/\n",
        "protoc object_detection/protos/*.proto --python_out=."
      ],
      "execution_count": 0,
      "outputs": []
    },
    {
      "cell_type": "code",
      "metadata": {
        "id": "NwpMjJZWsY-o",
        "colab_type": "code",
        "outputId": "66a8176b-1036-4fb5-8b71-96beb1964bdd",
        "colab": {
          "base_uri": "https://localhost:8080/",
          "height": 323
        }
      },
      "source": [
        "%%bash \n",
        "cd models/research\n",
        "pip install .\n"
      ],
      "execution_count": 0,
      "outputs": [
        {
          "output_type": "stream",
          "text": [
            "Processing /content/models/research\n",
            "Requirement already satisfied: Pillow>=1.0 in /usr/local/lib/python3.6/dist-packages (from object-detection==0.1) (7.0.0)\n",
            "Requirement already satisfied: Matplotlib>=2.1 in /usr/local/lib/python3.6/dist-packages (from object-detection==0.1) (3.2.1)\n",
            "Requirement already satisfied: Cython>=0.28.1 in /usr/local/lib/python3.6/dist-packages (from object-detection==0.1) (0.29.16)\n",
            "Requirement already satisfied: numpy>=1.11 in /usr/local/lib/python3.6/dist-packages (from Matplotlib>=2.1->object-detection==0.1) (1.18.2)\n",
            "Requirement already satisfied: kiwisolver>=1.0.1 in /usr/local/lib/python3.6/dist-packages (from Matplotlib>=2.1->object-detection==0.1) (1.2.0)\n",
            "Requirement already satisfied: pyparsing!=2.0.4,!=2.1.2,!=2.1.6,>=2.0.1 in /usr/local/lib/python3.6/dist-packages (from Matplotlib>=2.1->object-detection==0.1) (2.4.6)\n",
            "Requirement already satisfied: cycler>=0.10 in /usr/local/lib/python3.6/dist-packages (from Matplotlib>=2.1->object-detection==0.1) (0.10.0)\n",
            "Requirement already satisfied: python-dateutil>=2.1 in /usr/local/lib/python3.6/dist-packages (from Matplotlib>=2.1->object-detection==0.1) (2.8.1)\n",
            "Requirement already satisfied: six in /usr/local/lib/python3.6/dist-packages (from cycler>=0.10->Matplotlib>=2.1->object-detection==0.1) (1.12.0)\n",
            "Building wheels for collected packages: object-detection\n",
            "  Building wheel for object-detection (setup.py): started\n",
            "  Building wheel for object-detection (setup.py): finished with status 'done'\n",
            "  Created wheel for object-detection: filename=object_detection-0.1-cp36-none-any.whl size=1017522 sha256=45742fc47d035673757dfc892e49587ec38e2dc8554a57a62d528bba9013a98b\n",
            "  Stored in directory: /tmp/pip-ephem-wheel-cache-6ja25tcl/wheels/94/49/4b/39b051683087a22ef7e80ec52152a27249d1a644ccf4e442ea\n",
            "Successfully built object-detection\n",
            "Installing collected packages: object-detection\n",
            "Successfully installed object-detection-0.1\n"
          ],
          "name": "stdout"
        }
      ]
    },
    {
      "cell_type": "code",
      "metadata": {
        "id": "nN-EU7MEsZRH",
        "colab_type": "code",
        "colab": {}
      },
      "source": [
        "import numpy as np\n",
        "import os\n",
        "import six.moves.urllib as urllib\n",
        "import sys\n",
        "import tarfile\n",
        "import tensorflow as tf\n",
        "import zipfile\n",
        "\n",
        "from collections import defaultdict\n",
        "from io import StringIO\n",
        "from matplotlib import pyplot as plt\n",
        "from PIL import Image\n",
        "from IPython.display import display\n"
      ],
      "execution_count": 0,
      "outputs": []
    },
    {
      "cell_type": "code",
      "metadata": {
        "id": "QTRZuGw2sclG",
        "colab_type": "code",
        "colab": {}
      },
      "source": [
        "from object_detection.utils import ops as utils_ops\n",
        "from object_detection.utils import label_map_util\n",
        "from object_detection.utils import visualization_utils as vis_util"
      ],
      "execution_count": 0,
      "outputs": []
    },
    {
      "cell_type": "code",
      "metadata": {
        "id": "N9DxIH5iseah",
        "colab_type": "code",
        "colab": {}
      },
      "source": [
        "# patch tf1 into `utils.ops`\n",
        "utils_ops.tf = tf.compat.v1\n",
        "\n",
        "# Patch the location of gfile\n",
        "tf.gfile = tf.io.gfile\n"
      ],
      "execution_count": 0,
      "outputs": []
    },
    {
      "cell_type": "code",
      "metadata": {
        "id": "OhK-2NzjsgvI",
        "colab_type": "code",
        "colab": {}
      },
      "source": [
        "def load_model(model_name):\n",
        "  base_url = 'http://download.tensorflow.org/models/object_detection/'\n",
        "  model_file = model_name + '.tar.gz'\n",
        "  model_dir = tf.keras.utils.get_file(\n",
        "    fname=model_name, \n",
        "    origin=base_url + model_file,\n",
        "    untar=True)\n",
        "\n",
        "  model_dir = pathlib.Path(model_dir)/\"saved_model\"\n",
        "\n",
        "  model = tf.saved_model.load(str(model_dir))\n",
        "  model = model.signatures['serving_default']\n",
        "\n",
        "  return model"
      ],
      "execution_count": 0,
      "outputs": []
    },
    {
      "cell_type": "code",
      "metadata": {
        "id": "MzYx61cWsi7o",
        "colab_type": "code",
        "colab": {}
      },
      "source": [
        "# List of the strings that is used to add correct label for each box.\n",
        "PATH_TO_LABELS = 'models/research/object_detection/data/mscoco_label_map.pbtxt'\n",
        "category_index = label_map_util.create_category_index_from_labelmap(PATH_TO_LABELS, use_display_name=True)"
      ],
      "execution_count": 0,
      "outputs": []
    },
    {
      "cell_type": "code",
      "metadata": {
        "id": "-oMg8Vxjsksz",
        "colab_type": "code",
        "colab": {}
      },
      "source": [
        ""
      ],
      "execution_count": 0,
      "outputs": []
    },
    {
      "cell_type": "code",
      "metadata": {
        "id": "Q_IEVLr-soNf",
        "colab_type": "code",
        "outputId": "ed3b981c-f0b6-4acc-f63c-aa3ae15cf74a",
        "colab": {
          "base_uri": "https://localhost:8080/",
          "height": 68
        }
      },
      "source": [
        "model_name = 'ssd_mobilenet_v1_coco_2018_01_28'\n",
        "detection_model = load_model(model_name)\n"
      ],
      "execution_count": 0,
      "outputs": [
        {
          "output_type": "stream",
          "text": [
            "Downloading data from http://download.tensorflow.org/models/object_detection/ssd_mobilenet_v1_coco_2018_01_28.tar.gz\n",
            "76546048/76541073 [==============================] - 1s 0us/step\n",
            "INFO:tensorflow:Saver not created because there are no variables in the graph to restore\n"
          ],
          "name": "stdout"
        }
      ]
    },
    {
      "cell_type": "code",
      "metadata": {
        "id": "0Arra7C0spoW",
        "colab_type": "code",
        "outputId": "5c3d0e7c-58b9-4c43-c2a5-fc8d696567f4",
        "colab": {
          "base_uri": "https://localhost:8080/",
          "height": 34
        }
      },
      "source": [
        "print(detection_model.inputs)\n"
      ],
      "execution_count": 0,
      "outputs": [
        {
          "output_type": "stream",
          "text": [
            "[<tf.Tensor 'image_tensor:0' shape=(None, None, None, 3) dtype=uint8>]\n"
          ],
          "name": "stdout"
        }
      ]
    },
    {
      "cell_type": "code",
      "metadata": {
        "id": "ixXn0saQsrgu",
        "colab_type": "code",
        "outputId": "bcdc4429-05a9-4df0-f806-04c043e06322",
        "colab": {
          "base_uri": "https://localhost:8080/",
          "height": 85
        }
      },
      "source": [
        "detection_model.output_dtypes"
      ],
      "execution_count": 0,
      "outputs": [
        {
          "output_type": "execute_result",
          "data": {
            "text/plain": [
              "{'detection_boxes': tf.float32,\n",
              " 'detection_classes': tf.float32,\n",
              " 'detection_scores': tf.float32,\n",
              " 'num_detections': tf.float32}"
            ]
          },
          "metadata": {
            "tags": []
          },
          "execution_count": 54
        }
      ]
    },
    {
      "cell_type": "code",
      "metadata": {
        "id": "L2_520S-suDj",
        "colab_type": "code",
        "outputId": "89682c70-aaa0-4196-d892-fa01e7b4635a",
        "colab": {
          "base_uri": "https://localhost:8080/",
          "height": 85
        }
      },
      "source": [
        "detection_model.output_shapes"
      ],
      "execution_count": 0,
      "outputs": [
        {
          "output_type": "execute_result",
          "data": {
            "text/plain": [
              "{'detection_boxes': TensorShape([None, 100, 4]),\n",
              " 'detection_classes': TensorShape([None, 100]),\n",
              " 'detection_scores': TensorShape([None, 100]),\n",
              " 'num_detections': TensorShape([None])}"
            ]
          },
          "metadata": {
            "tags": []
          },
          "execution_count": 55
        }
      ]
    },
    {
      "cell_type": "code",
      "metadata": {
        "id": "u5o8H0Qp4OOi",
        "colab_type": "code",
        "outputId": "ce9baa84-ae2e-4894-dc36-dcfed25530e3",
        "colab": {
          "base_uri": "https://localhost:8080/",
          "height": 34
        }
      },
      "source": [
        "detection_model"
      ],
      "execution_count": 0,
      "outputs": [
        {
          "output_type": "execute_result",
          "data": {
            "text/plain": [
              "<tensorflow.python.eager.wrap_function.WrappedFunction at 0x7efc54a0d3c8>"
            ]
          },
          "metadata": {
            "tags": []
          },
          "execution_count": 56
        }
      ]
    },
    {
      "cell_type": "code",
      "metadata": {
        "id": "Slo4aiUwsvE7",
        "colab_type": "code",
        "colab": {}
      },
      "source": [
        "def run_inference_for_single_image(model, image):\n",
        "  image = np.asarray(image)\n",
        "  # The input needs to be a tensor, convert it using `tf.convert_to_tensor`.\n",
        "  input_tensor = tf.convert_to_tensor(image)\n",
        "  # The model expects a batch of images, so add an axis with `tf.newaxis`.\n",
        "  input_tensor = input_tensor[tf.newaxis,...]\n",
        "\n",
        "  # Run inference\n",
        "  output_dict = model(input_tensor)\n",
        "\n",
        "  # All outputs are batches tensors.\n",
        "  # Convert to numpy arrays, and take index [0] to remove the batch dimension.\n",
        "  # We're only interested in the first num_detections.\n",
        "  num_detections = int(output_dict.pop('num_detections'))\n",
        "  output_dict = {key:value[0, :num_detections].numpy() \n",
        "                 for key,value in output_dict.items()}\n",
        "  output_dict['num_detections'] = num_detections\n",
        "\n",
        "  # detection_classes should be ints.\n",
        "  output_dict['detection_classes'] = output_dict['detection_classes'].astype(np.int64)\n",
        "   \n",
        "  # Handle models with masks:\n",
        "  if 'detection_masks' in output_dict:\n",
        "    # Reframe the the bbox mask to the image size.\n",
        "    detection_masks_reframed = utils_ops.reframe_box_masks_to_image_masks(\n",
        "              output_dict['detection_masks'], output_dict['detection_boxes'],\n",
        "               image.shape[0], image.shape[1])      \n",
        "    detection_masks_reframed = tf.cast(detection_masks_reframed > 0.5,\n",
        "                                       tf.uint8)\n",
        "    output_dict['detection_masks_reframed'] = detection_masks_reframed.numpy()\n",
        "    \n",
        "  return output_dict\n"
      ],
      "execution_count": 0,
      "outputs": []
    },
    {
      "cell_type": "code",
      "metadata": {
        "id": "DhVqez3Xswd1",
        "colab_type": "code",
        "colab": {}
      },
      "source": [
        "def show_inference(model, image_path):\n",
        "  # the array based representation of the image will be used later in order to prepare the\n",
        "  # result image with boxes and labels on it.\n",
        "  image_np = np.array(Image.open(image_path))\n",
        "  # Actual detection.\n",
        "  output_dict = run_inference_for_single_image(model, image_np)\n",
        "  # Visualization of the results of a detection.\n",
        "  vis_util.visualize_boxes_and_labels_on_image_array(\n",
        "      image_np,\n",
        "      output_dict['detection_boxes'],\n",
        "      output_dict['detection_classes'],\n",
        "      output_dict['detection_scores'],\n",
        "      category_index,\n",
        "      instance_masks=output_dict.get('detection_masks_reframed', None),\n",
        "      use_normalized_coordinates=True,\n",
        "      line_thickness=8)\n",
        "\n",
        "  display(Image.fromarray(image_np))"
      ],
      "execution_count": 0,
      "outputs": []
    },
    {
      "cell_type": "code",
      "metadata": {
        "id": "UxdU3k3nsyNk",
        "colab_type": "code",
        "outputId": "abf8f6e3-9bf3-4969-dbd4-f631fe43f9d9",
        "colab": {
          "base_uri": "https://localhost:8080/",
          "height": 34
        }
      },
      "source": [
        "# If you want to test the code with your images, just add path to the images to the TEST_IMAGE_PATHS.\n",
        "PATH_TO_TEST_IMAGES_DIR = pathlib.Path('test_images/')\n",
        "TEST_IMAGE_PATHS = sorted(list(PATH_TO_TEST_IMAGES_DIR.glob(\"*.jpg\")))\n",
        "TEST_IMAGE_PATHS\n"
      ],
      "execution_count": 0,
      "outputs": [
        {
          "output_type": "execute_result",
          "data": {
            "text/plain": [
              "[PosixPath('test_images/D25-0338.jpg')]"
            ]
          },
          "metadata": {
            "tags": []
          },
          "execution_count": 59
        }
      ]
    },
    {
      "cell_type": "code",
      "metadata": {
        "id": "zHeJLnrjszqW",
        "colab_type": "code",
        "outputId": "6e2425be-89b6-46db-bc53-a57455c7060d",
        "colab": {
          "base_uri": "https://localhost:8080/",
          "height": 859
        }
      },
      "source": [
        "for image_path in TEST_IMAGE_PATHS:\n",
        "  show_inference(detection_model, image_path)\n"
      ],
      "execution_count": 0,
      "outputs": []
    },
    {
      "cell_type": "code",
      "metadata": {
        "id": "bZQ4Yr33uN3a",
        "colab_type": "code",
        "colab": {}
      },
      "source": [
        ""
      ],
      "execution_count": 0,
      "outputs": []
    },
    {
      "cell_type": "code",
      "metadata": {
        "id": "UPbTaH5WLHAP",
        "colab_type": "code",
        "colab": {}
      },
      "source": [
        ""
      ],
      "execution_count": 0,
      "outputs": []
    },
    {
      "cell_type": "code",
      "metadata": {
        "id": "oKu8gl5_LHCy",
        "colab_type": "code",
        "outputId": "e4be4257-ba6a-4dfb-cd98-8944fc6907d5",
        "colab": {
          "base_uri": "https://localhost:8080/",
          "height": 367
        }
      },
      "source": [
        "import sys\n",
        "sys.path.append(\"/Path To /MobileNet-ssd-keras\")\n",
        "from keras.optimizers import Adam\n",
        "from keras.callbacks import ModelCheckpoint, LearningRateScheduler, EarlyStopping, ReduceLROnPlateau, TensorBoard\n",
        "from keras import backend as K\n",
        "from keras.models import load_model\n",
        "from math import ceil\n",
        "import numpy as np\n",
        "from matplotlib import pyplot as plt\n",
        "import tensorflow as tf\n",
        "\n",
        "# from models.ssd_mobilenet import ssd_300\n",
        "from misc.keras_ssd_loss import SSDLoss, FocalLoss, weightedSSDLoss, weightedFocalLoss\n",
        "from misc.keras_layer_AnchorBoxes import AnchorBoxes\n",
        "from misc.keras_layer_L2Normalization import L2Normalization\n",
        "from misc.ssd_box_encode_decode_utils import SSDBoxEncoder, decode_y, decode_y2\n",
        "from misc.ssd_batch_generator import BatchGenerator\n",
        "from keras.utils.training_utils import multi_gpu_model\n",
        "import os\n",
        "import keras\n",
        "import argparse\n",
        "os.environ['CUDA_VISIBLE_DEVICES'] = \"1\"\n",
        "\n",
        "\n",
        "img_height = 300  # Height of the input images\n",
        "img_width = 300  # Width of the input images\n",
        "img_channels = 3  # Number of color channels of the input images\n",
        "subtract_mean = [123, 117, 104]  # The per-channel mean of the images in the dataset\n",
        "swap_channels = True  # The color channel order in the original SSD is BGR\n",
        "n_classes = 20  # Number of positive classes, e.g. 20 for Pascal VOC, 80 for MS COCO\n",
        "scales_voc = [0.1, 0.2, 0.37, 0.54, 0.71, 0.88,\n",
        "              1.05]  # The anchor box scaling factors used in the original SSD300 for the Pascal VOC datasets\n",
        "scales_coco = [0.07, 0.15, 0.33, 0.51, 0.69, 0.87,\n",
        "               1.05]  # The anchor box scaling factors used in the original SSD300 for the MS COCO datasets\n",
        "scales = scales_voc\n",
        "\n",
        "aspect_ratios = [[1.0, 2.0, 0.5],\n",
        "                 [1.0, 2.0, 0.5, 3.0, 1.0 / 3.0],\n",
        "                 [1.0, 2.0, 0.5, 3.0, 1.0 / 3.0],\n",
        "                 [1.0, 2.0, 0.5, 3.0, 1.0 / 3.0],\n",
        "                 [1.0, 2.0, 0.5],\n",
        "                 [1.0, 2.0, 0.5]]  # The anchor box aspect ratios used in the original SSD300; the order matters\n",
        "two_boxes_for_ar1 = True\n",
        "steps = [8, 16, 32, 64, 100, 300]  # The space between two adjacent anchor box center points for each predictor layer.\n",
        "offsets = [0.5, 0.5, 0.5, 0.5, 0.5,\n",
        "           0.5]  # The offsets of the first anchor box center points from the top and left borders of the image as a fraction of the step size for each predictor layer.\n",
        "limit_boxes = False  # Whether or not you want to limit the anchor boxes to lie entirely within the image boundaries\n",
        "variances = [0.1, 0.1, 0.2,\n",
        "             0.2]  # The variances by which the encoded target coordinates are scaled as in the original implementation\n",
        "coords = 'centroids'  # Whether the box coordinates to be used as targets for the model should be in the 'centroids', 'corners', or 'minmax' format, see documentation\n",
        "normalize_coords = True\n",
        "\n",
        "# 1: Build the Keras model\n",
        "\n",
        "K.clear_session()  # Clear previous models from memory.\n"
      ],
      "execution_count": 0,
      "outputs": [
        {
          "output_type": "error",
          "ename": "ModuleNotFoundError",
          "evalue": "ignored",
          "traceback": [
            "\u001b[0;31m---------------------------------------------------------------------------\u001b[0m",
            "\u001b[0;31mModuleNotFoundError\u001b[0m                       Traceback (most recent call last)",
            "\u001b[0;32m<ipython-input-3-13cad09cc111>\u001b[0m in \u001b[0;36m<module>\u001b[0;34m()\u001b[0m\n\u001b[1;32m     11\u001b[0m \u001b[0;34m\u001b[0m\u001b[0m\n\u001b[1;32m     12\u001b[0m \u001b[0;31m# from models.ssd_mobilenet import ssd_300\u001b[0m\u001b[0;34m\u001b[0m\u001b[0;34m\u001b[0m\u001b[0;34m\u001b[0m\u001b[0m\n\u001b[0;32m---> 13\u001b[0;31m \u001b[0;32mfrom\u001b[0m \u001b[0mmisc\u001b[0m\u001b[0;34m.\u001b[0m\u001b[0mkeras_ssd_loss\u001b[0m \u001b[0;32mimport\u001b[0m \u001b[0mSSDLoss\u001b[0m\u001b[0;34m,\u001b[0m \u001b[0mFocalLoss\u001b[0m\u001b[0;34m,\u001b[0m \u001b[0mweightedSSDLoss\u001b[0m\u001b[0;34m,\u001b[0m \u001b[0mweightedFocalLoss\u001b[0m\u001b[0;34m\u001b[0m\u001b[0;34m\u001b[0m\u001b[0m\n\u001b[0m\u001b[1;32m     14\u001b[0m \u001b[0;32mfrom\u001b[0m \u001b[0mmisc\u001b[0m\u001b[0;34m.\u001b[0m\u001b[0mkeras_layer_AnchorBoxes\u001b[0m \u001b[0;32mimport\u001b[0m \u001b[0mAnchorBoxes\u001b[0m\u001b[0;34m\u001b[0m\u001b[0;34m\u001b[0m\u001b[0m\n\u001b[1;32m     15\u001b[0m \u001b[0;32mfrom\u001b[0m \u001b[0mmisc\u001b[0m\u001b[0;34m.\u001b[0m\u001b[0mkeras_layer_L2Normalization\u001b[0m \u001b[0;32mimport\u001b[0m \u001b[0mL2Normalization\u001b[0m\u001b[0;34m\u001b[0m\u001b[0;34m\u001b[0m\u001b[0m\n",
            "\u001b[0;31mModuleNotFoundError\u001b[0m: No module named 'misc'",
            "",
            "\u001b[0;31m---------------------------------------------------------------------------\u001b[0;32m\nNOTE: If your import is failing due to a missing package, you can\nmanually install dependencies using either !pip or !apt.\n\nTo view examples of installing some common dependencies, click the\n\"Open Examples\" button below.\n\u001b[0;31m---------------------------------------------------------------------------\u001b[0m\n"
          ]
        }
      ]
    },
    {
      "cell_type": "code",
      "metadata": {
        "id": "Q4Qm6HhiLHFY",
        "colab_type": "code",
        "colab": {}
      },
      "source": [
        ""
      ],
      "execution_count": 0,
      "outputs": []
    },
    {
      "cell_type": "code",
      "metadata": {
        "id": "wzyla98bLHHz",
        "colab_type": "code",
        "outputId": "1251917b-cd80-41f9-8a25-e995c37c414a",
        "colab": {
          "base_uri": "https://localhost:8080/",
          "height": 367
        }
      },
      "source": [
        "import sys\n",
        "sys.path.append(\"/home/manish/MobileNet-ssd-keras\")\n",
        "import keras\n",
        "import numpy as np \n",
        "import cv2\n",
        "import keras.backend as K\n",
        "import keras.layers as KL\n",
        "from models.depthwise_conv2d import DepthwiseConvolution2D\n",
        "from keras.models import Model\n",
        "from keras.layers import Input, Lambda, Activation,Conv2D, Convolution2D, MaxPooling2D, ZeroPadding2D, Reshape, Concatenate,BatchNormalization, Add, Conv2DTranspose\n",
        "from keras.regularizers import l2\n",
        "from models.mobilenet_v1 import mobilenet\n",
        "from misc.keras_layer_L2Normalization import L2Normalization\n",
        "from misc.keras_layer_AnchorBoxes import AnchorBoxes\n",
        "from misc.keras_layer_DecodeDetectionsFast import DecodeDetectionsFast\n",
        "\n",
        "# import os\n",
        "# os.environ['CUDA_VISIBLE_DEVICES'] = \"0\"\n",
        "\n",
        "def ssd_300(mode,\n",
        "            image_size,\n",
        "            n_classes,\n",
        "            l2_regularization=0.0005,\n",
        "            min_scale=None,\n",
        "            max_scale=None,\n",
        "            scales=None,\n",
        "            aspect_ratios_global=None,\n",
        "            aspect_ratios_per_layer=[[1.0, 2.0, 0.5],\n",
        "                                     [1.0, 2.0, 0.5, 3.0, 1.0 / 3.0],\n",
        "                                     [1.0, 2.0, 0.5, 3.0, 1.0 / 3.0],\n",
        "                                     [1.0, 2.0, 0.5, 3.0, 1.0 / 3.0],\n",
        "                                     [1.0, 2.0, 0.5],\n",
        "                                     [1.0, 2.0, 0.5]],\n",
        "            two_boxes_for_ar1=True,\n",
        "            steps=[8, 16, 32, 64, 100, 300],\n",
        "            offsets=None,\n",
        "            limit_boxes=False,\n",
        "            variances=[0.1, 0.1, 0.2, 0.2],\n",
        "            coords='centroids',\n",
        "            normalize_coords=False,\n",
        "            subtract_mean=[123, 117, 104],\n",
        "            divide_by_stddev=None,\n",
        "            swap_channels=True,\n",
        "            return_predictor_sizes=False):\n",
        "    \n",
        "\n",
        "    n_predictor_layers = 6  # The number of predictor conv layers in the network is 6 for the original SSD300.\n",
        "    n_classes += 1  # Account for the background class.\n",
        "    l2_reg = l2_regularization  # Make the internal name shorter.\n",
        "    img_height, img_width, img_channels = image_size[0], image_size[1], image_size[2]\n",
        "\n",
        "\n",
        "    if aspect_ratios_global is None and aspect_ratios_per_layer is None:\n",
        "        raise ValueError(\n",
        "            \"`aspect_ratios_global` and `aspect_ratios_per_layer` cannot both be None. At least one needs to be specified.\")\n",
        "    if aspect_ratios_per_layer:\n",
        "        if len(aspect_ratios_per_layer) != n_predictor_layers:\n",
        "            raise ValueError(\n",
        "                \"It must be either aspect_ratios_per_layer is None or len(aspect_ratios_per_layer) == {}, but len(aspect_ratios_per_layer) == {}.\".format(\n",
        "                    n_predictor_layers, len(aspect_ratios_per_layer)))\n",
        "\n",
        "    if (min_scale is None or max_scale is None) and scales is None:\n",
        "        raise ValueError(\"Either `min_scale` and `max_scale` or `scales` need to be specified.\")\n",
        "    if scales:\n",
        "        if len(scales) != n_predictor_layers + 1:\n",
        "            raise ValueError(\"It must be either scales is None or len(scales) == {}, but len(scales) == {}.\".format(\n",
        "                n_predictor_layers + 1, len(scales)))\n",
        "    else:  # If no explicit list of scaling factors was passed, compute the list of scaling factors from `min_scale` and `max_scale`\n",
        "        scales = np.linspace(min_scale, max_scale, n_predictor_layers + 1)\n",
        "\n",
        "    if len(variances) != 4:\n",
        "        raise ValueError(\"4 variance values must be pased, but {} values were received.\".format(len(variances)))\n",
        "    variances = np.array(variances)\n",
        "    if np.any(variances <= 0):\n",
        "        raise ValueError(\"All variances must be >0, but the variances given are {}\".format(variances))\n",
        "\n",
        "    if (not (steps is None)) and (len(steps) != n_predictor_layers):\n",
        "        raise ValueError(\"You must provide at least one step value per predictor layer.\")\n",
        "\n",
        "    if (not (offsets is None)) and (len(offsets) != n_predictor_layers):\n",
        "        raise ValueError(\"You must provide at least one offset value per predictor layer.\")\n",
        "\n",
        "    ############################################################################\n",
        "    # Compute the anchor box parameters.\n",
        "    ############################################################################\n",
        "\n",
        "    # Set the aspect ratios for each predictor layer. These are only needed for the anchor box layers.\n",
        "    if aspect_ratios_per_layer:\n",
        "        aspect_ratios = aspect_ratios_per_layer\n",
        "    else:\n",
        "        aspect_ratios = [aspect_ratios_global] * n_predictor_layers\n",
        "\n",
        "    # Compute the number of boxes to be predicted per cell for each predictor layer.\n",
        "    # We need this so that we know how many channels the predictor layers need to have.\n",
        "    if aspect_ratios_per_layer:\n",
        "        n_boxes = []\n",
        "        for ar in aspect_ratios_per_layer:\n",
        "            if (1 in ar) & two_boxes_for_ar1:\n",
        "                n_boxes.append(len(ar) + 1)  # +1 for the second box for aspect ratio 1\n",
        "            else:\n",
        "                n_boxes.append(len(ar))\n",
        "    else:  # If only a global aspect ratio list was passed, then the number of boxes is the same for each predictor layer\n",
        "        if (1 in aspect_ratios_global) & two_boxes_for_ar1:\n",
        "            n_boxes = len(aspect_ratios_global) + 1\n",
        "        else:\n",
        "            n_boxes = len(aspect_ratios_global)\n",
        "        n_boxes = [n_boxes] * n_predictor_layers\n",
        "\n",
        "    if steps is None:\n",
        "        steps = [None] * n_predictor_layers\n",
        "    if offsets is None:\n",
        "        offsets = [None] * n_predictor_layers\n",
        "\n",
        "\n",
        "\n",
        "    x = Input(shape=(img_height, img_width, img_channels))\n",
        "\n",
        "    # The following identity layer is only needed so that the subsequent lambda layers can be optional.\n",
        "    x1 = Lambda(lambda z: z, output_shape=(img_height, img_width, img_channels), name='identity_layer')(x)\n",
        "    if not (subtract_mean is None):\n",
        "        x1 = Lambda(lambda z: z - np.array(subtract_mean), output_shape=(img_height, img_width, img_channels),\n",
        "                    name='input_mean_normalization')(x1)\n",
        "    if not (divide_by_stddev is None):\n",
        "        x1 = Lambda(lambda z: z / np.array(divide_by_stddev), output_shape=(img_height, img_width, img_channels),\n",
        "                    name='input_stddev_normalization')(x1)\n",
        "    if swap_channels and (img_channels == 3):\n",
        "        x1 = Lambda(lambda z: z[..., ::-1], output_shape=(img_height, img_width, img_channels),\n",
        "                    name='input_channel_swap')(x1)\n",
        "\n",
        "\n",
        "    conv4_3_norm , fc7 ,test= mobilenet(input_tensor=x1)\n",
        "\n",
        "    print (\"conv11 shape: \", conv4_3_norm.shape)\n",
        "    print (\"conv13 shape: \", fc7.shape)\n",
        "\n",
        "\n",
        "\n",
        "    conv6_1 = Conv2D(256, (1, 1), padding='same', kernel_initializer='he_normal',\n",
        "        kernel_regularizer=l2(l2_reg), name='conv14_1', use_bias=False)(fc7)\n",
        "    conv6_1 = BatchNormalization( momentum=0.99, epsilon=0.00001, name='conv14_1/bn')(conv6_1)\n",
        "    conv6_1 = Activation('relu', name='relu_conv6_1')(conv6_1)\n",
        "\n",
        "    conv6_1 = ZeroPadding2D(padding=((1, 1), (1, 1)), name='conv6_padding')(conv6_1)\n",
        "    conv6_2 = Conv2D(512, (3, 3), strides=(2, 2), padding='valid', kernel_initializer='he_normal',\n",
        "        kernel_regularizer=l2(l2_reg), name='conv14_2', use_bias=False)(conv6_1)\n",
        "    conv6_2 = BatchNormalization( momentum=0.99, epsilon=0.00001, name='conv14_2/bn')(conv6_2)\n",
        "    conv6_2 = Activation('relu', name='relu_conv6_2')(conv6_2)\n",
        "\n",
        "    print ('conv14 shape', conv6_2.shape)\n",
        "\n",
        "\n",
        "\n",
        "    conv7_1 = Conv2D(128, (1, 1), padding='same', kernel_initializer='he_normal',\n",
        "        kernel_regularizer=l2(l2_reg), name='conv15_1',use_bias=False)(conv6_2)\n",
        "    conv7_1 = BatchNormalization( momentum=0.99, epsilon=0.00001, name='conv15_1/bn')(conv7_1)\n",
        "    conv7_1 = Activation('relu', name='relu_conv7_1')(conv7_1)\n",
        "\n",
        "    conv7_1 = ZeroPadding2D(padding=((1, 1), (1, 1)), name='conv7_padding')(conv7_1)\n",
        "    conv7_2 = Conv2D(256, (3, 3), strides=(2, 2), padding='valid', kernel_initializer='he_normal',\n",
        "        kernel_regularizer=l2(l2_reg), name='conv15_2',use_bias=False)(conv7_1)\n",
        "    conv7_2 = BatchNormalization( momentum=0.99, epsilon=0.00001, name='conv15_2/bn')(conv7_2)\n",
        "    conv7_2 = Activation('relu', name='relu_conv7_2')(conv7_2)\n",
        "\n",
        "\n",
        "    print ('conv15 shape', conv7_2.shape)\n",
        "\n",
        "    conv8_1 = Conv2D(128, (1, 1), padding='same', kernel_initializer='he_normal',\n",
        "        kernel_regularizer=l2(l2_reg), name='conv16_1',use_bias=False)(conv7_2)\n",
        "    conv8_1 = BatchNormalization( momentum=0.99, epsilon=0.00001, name='conv16_1/bn')(conv8_1)\n",
        "    conv8_1 = Activation('relu', name='relu_conv8_1')(conv8_1)\n",
        "    conv8_1 = ZeroPadding2D(padding=((1, 1), (1, 1)), name='conv8_padding')(conv8_1)\n",
        "    conv8_2 = Conv2D(256, (3, 3), strides=(2, 2), padding='valid', kernel_initializer='he_normal',\n",
        "        kernel_regularizer=l2(l2_reg), name='conv16_2',use_bias=False)(conv8_1)\n",
        "    conv8_2 = BatchNormalization( momentum=0.99, epsilon=0.00001, name='conv16_2/bn')(conv8_2)\n",
        "    conv8_2 = Activation('relu', name='relu_conv8_2')(conv8_2)\n",
        "\n",
        "    print ('conv16 shape', conv8_2.shape)\n",
        "    \n",
        "    conv9_1 = Conv2D(64, (1, 1), padding='same', kernel_initializer='he_normal',\n",
        "        kernel_regularizer=l2(l2_reg), name='conv17_1',use_bias=False)(conv8_2)\n",
        "    conv9_1 = BatchNormalization( momentum=0.99, epsilon=0.00001, name='conv17_1/bn')(conv9_1)\n",
        "    conv9_1 = Activation('relu', name='relu_conv9_1')(conv9_1)\n",
        "    conv9_1 = ZeroPadding2D(padding=((1, 1), (1, 1)), name='conv9_padding')(conv9_1)\n",
        "    conv9_2 = Conv2D(128, (3, 3), strides=(2, 2), padding='valid', kernel_initializer='he_normal',\n",
        "        kernel_regularizer=l2(l2_reg), name='conv17_2',use_bias=False)(conv9_1)\n",
        "    conv9_2 = BatchNormalization( momentum=0.99, epsilon=0.00001, name='conv17_2/bn')(conv9_2)\n",
        "    conv9_2 = Activation('relu', name='relu_conv9_2')(conv9_2)\n",
        "\n",
        "    print ('conv17 shape', conv9_2.shape)\n",
        "\n",
        "    # Feed conv4_3 into the L2 normalization layer\n",
        "    # conv4_3_norm = L2Normalization(gamma_init=20, name='conv4_3_norm')(conv4_3_norm)\n",
        "   \n",
        "\n",
        "    conv4_3_norm_mbox_conf = Conv2D(n_boxes[0] * n_classes, (1,1), padding='same', kernel_initializer='he_normal',\n",
        "                                    kernel_regularizer=l2(l2_reg), name='conv11_mbox_conf')(conv4_3_norm)\n",
        "    fc7_mbox_conf = Conv2D(n_boxes[1] * n_classes, (1,1), padding='same', kernel_initializer='he_normal',\n",
        "                           kernel_regularizer=l2(l2_reg), name='conv13_mbox_conf')(fc7)\n",
        "    conv6_2_mbox_conf = Conv2D(n_boxes[2] * n_classes, (1,1), padding='same', kernel_initializer='he_normal',\n",
        "                               kernel_regularizer=l2(l2_reg), name='conv14_2_mbox_conf')(conv6_2)\n",
        "    conv7_2_mbox_conf = Conv2D(n_boxes[3] * n_classes, (1,1), padding='same', kernel_initializer='he_normal',\n",
        "                               kernel_regularizer=l2(l2_reg), name='conv15_2_mbox_conf')(conv7_2)\n",
        "    conv8_2_mbox_conf = Conv2D(n_boxes[4] * n_classes, (1,1), padding='same', kernel_initializer='he_normal',\n",
        "                               kernel_regularizer=l2(l2_reg), name='conv16_2_mbox_conf')(conv8_2)\n",
        "    conv9_2_mbox_conf = Conv2D(n_boxes[5] * n_classes, (1,1), padding='same', kernel_initializer='he_normal',\n",
        "                               kernel_regularizer=l2(l2_reg), name='conv17_2_mbox_conf')(conv9_2)\n",
        "    # We predict 4 box coordinates for each box, hence the localization predictors have depth `n_boxes * 4`\n",
        "    # Output shape of the localization layers: `(batch, height, width, n_boxes * 4)`\n",
        "    conv4_3_norm_mbox_loc = Conv2D(n_boxes[0] * 4, (1,1), padding='same', kernel_initializer='he_normal',\n",
        "                                   kernel_regularizer=l2(l2_reg), name='conv11_mbox_loc')(conv4_3_norm)\n",
        "    fc7_mbox_loc = Conv2D(n_boxes[1] * 4, (1,1), padding='same', kernel_initializer='he_normal',\n",
        "                          kernel_regularizer=l2(l2_reg), name='conv13_mbox_loc')(fc7)\n",
        "    conv6_2_mbox_loc = Conv2D(n_boxes[2] * 4, (1,1), padding='same', kernel_initializer='he_normal',\n",
        "                              kernel_regularizer=l2(l2_reg), name='conv14_2_mbox_loc')(conv6_2)\n",
        "    conv7_2_mbox_loc = Conv2D(n_boxes[3] * 4, (1,1), padding='same', kernel_initializer='he_normal',\n",
        "                              kernel_regularizer=l2(l2_reg), name='conv15_2_mbox_loc')(conv7_2)\n",
        "    conv8_2_mbox_loc = Conv2D(n_boxes[4] * 4, (1,1), padding='same', kernel_initializer='he_normal',\n",
        "                              kernel_regularizer=l2(l2_reg), name='conv16_2_mbox_loc')(conv8_2)\n",
        "    conv9_2_mbox_loc = Conv2D(n_boxes[5] * 4, (1,1), padding='same', kernel_initializer='he_normal',\n",
        "                              kernel_regularizer=l2(l2_reg), name='conv17_2_mbox_loc')(conv9_2)\n",
        "\n",
        "    ### Generate the anchor boxes (called \"priors\" in the original Caffe/C++ implementation, so I'll keep their layer names)\n",
        "\n",
        "    # Output shape of anchors: `(batch, height, width, n_boxes, 8)`\n",
        "    conv4_3_norm_mbox_priorbox = AnchorBoxes(img_height, img_width, this_scale=scales[0], next_scale=scales[1],\n",
        "                                             aspect_ratios=aspect_ratios[0],\n",
        "                                             two_boxes_for_ar1=two_boxes_for_ar1, this_steps=steps[0],\n",
        "                                             this_offsets=offsets[0], limit_boxes=limit_boxes,\n",
        "                                             variances=variances, coords=coords, normalize_coords=normalize_coords,\n",
        "                                             name='conv4_3_norm_mbox_priorbox')(conv4_3_norm_mbox_loc)\n",
        "    fc7_mbox_priorbox = AnchorBoxes(img_height, img_width, this_scale=scales[1], next_scale=scales[2],\n",
        "                                    aspect_ratios=aspect_ratios[1],\n",
        "                                    two_boxes_for_ar1=two_boxes_for_ar1, this_steps=steps[1], this_offsets=offsets[1],\n",
        "                                    limit_boxes=limit_boxes,\n",
        "                                    variances=variances, coords=coords, normalize_coords=normalize_coords,\n",
        "                                    name='fc7_mbox_priorbox')(fc7_mbox_loc)\n",
        "    conv6_2_mbox_priorbox = AnchorBoxes(img_height, img_width, this_scale=scales[2], next_scale=scales[3],\n",
        "                                        aspect_ratios=aspect_ratios[2],\n",
        "                                        two_boxes_for_ar1=two_boxes_for_ar1, this_steps=steps[2],\n",
        "                                        this_offsets=offsets[2], limit_boxes=limit_boxes,\n",
        "                                        variances=variances, coords=coords, normalize_coords=normalize_coords,\n",
        "                                        name='conv6_2_mbox_priorbox')(conv6_2_mbox_loc)\n",
        "    conv7_2_mbox_priorbox = AnchorBoxes(img_height, img_width, this_scale=scales[3], next_scale=scales[4],\n",
        "                                        aspect_ratios=aspect_ratios[3],\n",
        "                                        two_boxes_for_ar1=two_boxes_for_ar1, this_steps=steps[3],\n",
        "                                        this_offsets=offsets[3], limit_boxes=limit_boxes,\n",
        "                                        variances=variances, coords=coords, normalize_coords=normalize_coords,\n",
        "                                        name='conv7_2_mbox_priorbox')(conv7_2_mbox_loc)\n",
        "    conv8_2_mbox_priorbox = AnchorBoxes(img_height, img_width, this_scale=scales[4], next_scale=scales[5],\n",
        "                                        aspect_ratios=aspect_ratios[4],\n",
        "                                        two_boxes_for_ar1=two_boxes_for_ar1, this_steps=steps[4],\n",
        "                                        this_offsets=offsets[4], limit_boxes=limit_boxes,\n",
        "                                        variances=variances, coords=coords, normalize_coords=normalize_coords,\n",
        "                                        name='conv8_2_mbox_priorbox')(conv8_2_mbox_loc)\n",
        "    conv9_2_mbox_priorbox = AnchorBoxes(img_height, img_width, this_scale=scales[5], next_scale=scales[6],\n",
        "                                        aspect_ratios=aspect_ratios[5],\n",
        "                                        two_boxes_for_ar1=two_boxes_for_ar1, this_steps=steps[5],\n",
        "                                        this_offsets=offsets[5], limit_boxes=limit_boxes,\n",
        "                                        variances=variances, coords=coords, normalize_coords=normalize_coords,\n",
        "                                        name='conv9_2_mbox_priorbox')(conv9_2_mbox_loc)\n",
        "\n",
        "    ### Reshape\n",
        "\n",
        "    # Reshape the class predictions, yielding 3D tensors of shape `(batch, height * width * n_boxes, n_classes)`\n",
        "    # We want the classes isolated in the last axis to perform softmax on them\n",
        "    conv4_3_norm_mbox_conf_reshape = Reshape((-1, n_classes), name='conv4_3_norm_mbox_conf_reshape')(\n",
        "        conv4_3_norm_mbox_conf)\n",
        "    fc7_mbox_conf_reshape = Reshape((-1, n_classes), name='fc7_mbox_conf_reshape')(fc7_mbox_conf)\n",
        "    conv6_2_mbox_conf_reshape = Reshape((-1, n_classes), name='conv6_2_mbox_conf_reshape')(conv6_2_mbox_conf)\n",
        "    conv7_2_mbox_conf_reshape = Reshape((-1, n_classes), name='conv7_2_mbox_conf_reshape')(conv7_2_mbox_conf)\n",
        "    conv8_2_mbox_conf_reshape = Reshape((-1, n_classes), name='conv8_2_mbox_conf_reshape')(conv8_2_mbox_conf)\n",
        "    conv9_2_mbox_conf_reshape = Reshape((-1, n_classes), name='conv9_2_mbox_conf_reshape')(conv9_2_mbox_conf)\n",
        "    # Reshape the box predictions, yielding 3D tensors of shape `(batch, height * width * n_boxes, 4)`\n",
        "    # We want the four box coordinates isolated in the last axis to compute the smooth L1 loss\n",
        "    conv4_3_norm_mbox_loc_reshape = Reshape((-1, 4), name='conv4_3_norm_mbox_loc_reshape')(conv4_3_norm_mbox_loc)\n",
        "    fc7_mbox_loc_reshape = Reshape((-1, 4), name='fc7_mbox_loc_reshape')(fc7_mbox_loc)\n",
        "    conv6_2_mbox_loc_reshape = Reshape((-1, 4), name='conv6_2_mbox_loc_reshape')(conv6_2_mbox_loc)\n",
        "    conv7_2_mbox_loc_reshape = Reshape((-1, 4), name='conv7_2_mbox_loc_reshape')(conv7_2_mbox_loc)\n",
        "    conv8_2_mbox_loc_reshape = Reshape((-1, 4), name='conv8_2_mbox_loc_reshape')(conv8_2_mbox_loc)\n",
        "    conv9_2_mbox_loc_reshape = Reshape((-1, 4), name='conv9_2_mbox_loc_reshape')(conv9_2_mbox_loc)\n",
        "    # Reshape the anchor box tensors, yielding 3D tensors of shape `(batch, height * width * n_boxes, 8)`\n",
        "    conv4_3_norm_mbox_priorbox_reshape = Reshape((-1, 8), name='conv4_3_norm_mbox_priorbox_reshape')(\n",
        "        conv4_3_norm_mbox_priorbox)\n",
        "    fc7_mbox_priorbox_reshape = Reshape((-1, 8), name='fc7_mbox_priorbox_reshape')(fc7_mbox_priorbox)\n",
        "    conv6_2_mbox_priorbox_reshape = Reshape((-1, 8), name='conv6_2_mbox_priorbox_reshape')(conv6_2_mbox_priorbox)\n",
        "    conv7_2_mbox_priorbox_reshape = Reshape((-1, 8), name='conv7_2_mbox_priorbox_reshape')(conv7_2_mbox_priorbox)\n",
        "    conv8_2_mbox_priorbox_reshape = Reshape((-1, 8), name='conv8_2_mbox_priorbox_reshape')(conv8_2_mbox_priorbox)\n",
        "    conv9_2_mbox_priorbox_reshape = Reshape((-1, 8), name='conv9_2_mbox_priorbox_reshape')(conv9_2_mbox_priorbox)\n",
        "\n",
        "    ### Concatenate the predictions from the different layers\n",
        "\n",
        "    # Axis 0 (batch) and axis 2 (n_classes or 4, respectively) are identical for all layer predictions,\n",
        "    # so we want to concatenate along axis 1, the number of boxes per layer\n",
        "    # Output shape of `mbox_conf`: (batch, n_boxes_total, n_classes)\n",
        "    mbox_conf = Concatenate(axis=1, name='mbox_conf')([conv4_3_norm_mbox_conf_reshape,\n",
        "                                                       fc7_mbox_conf_reshape,\n",
        "                                                       conv6_2_mbox_conf_reshape,\n",
        "                                                       conv7_2_mbox_conf_reshape,\n",
        "                                                       conv8_2_mbox_conf_reshape,\n",
        "                                                       conv9_2_mbox_conf_reshape])\n",
        "\n",
        "    # Output shape of `mbox_loc`: (batch, n_boxes_total, 4)\n",
        "    mbox_loc = Concatenate(axis=1, name='mbox_loc')([conv4_3_norm_mbox_loc_reshape,\n",
        "                                                     fc7_mbox_loc_reshape,\n",
        "                                                     conv6_2_mbox_loc_reshape,\n",
        "                                                     conv7_2_mbox_loc_reshape,\n",
        "                                                     conv8_2_mbox_loc_reshape,\n",
        "                                                     conv9_2_mbox_loc_reshape])\n",
        "\n",
        "    # Output shape of `mbox_priorbox`: (batch, n_boxes_total, 8)\n",
        "    mbox_priorbox = Concatenate(axis=1, name='mbox_priorbox')([conv4_3_norm_mbox_priorbox_reshape,\n",
        "                                                               fc7_mbox_priorbox_reshape,\n",
        "                                                               conv6_2_mbox_priorbox_reshape,\n",
        "                                                               conv7_2_mbox_priorbox_reshape,\n",
        "                                                               conv8_2_mbox_priorbox_reshape,\n",
        "                                                               conv9_2_mbox_priorbox_reshape])\n",
        "\n",
        "    # The box coordinate predictions will go into the loss function just the way they are,\n",
        "    # but for the class predictions, we'll apply a softmax activation layer first\n",
        "    mbox_conf_softmax = Activation('softmax', name='mbox_conf_softmax')(mbox_conf)\n",
        "\n",
        "    # Concatenate the class and box predictions and the anchors to one large predictions vector\n",
        "    # Output shape of `predictions`: (batch, n_boxes_total, n_classes + 4 + 8)\n",
        "    predictions = Concatenate(axis=2, name='predictions')([mbox_conf_softmax, mbox_loc, mbox_priorbox])\n",
        "\n",
        "    model = Model(inputs=x, outputs=predictions)\n",
        "    # return model\n",
        "\n",
        "    if mode == 'inference':\n",
        "        print ('in inference mode')\n",
        "        decoded_predictions = DecodeDetectionsFast(confidence_thresh=0.01,\n",
        "                                                   iou_threshold=0.45,\n",
        "                                                   top_k=100,\n",
        "                                                   nms_max_output_size=100,\n",
        "                                                   coords='centroids',\n",
        "                                                   normalize_coords=normalize_coords,\n",
        "                                                   img_height=img_height,\n",
        "                                                   img_width=img_width,\n",
        "                                                   name='decoded_predictions')(predictions)\n",
        "        model = Model(inputs=x, outputs=decoded_predictions)\n",
        "    else:\n",
        "        print ('in training mode')\n",
        "\n",
        "    return model\n",
        "\n",
        "\n",
        "\n",
        "\n",
        "\n",
        "\n",
        "\n",
        "if __name__ == '__main__':\n",
        "    # model = mobilenet(None)\n",
        "\n",
        "    # for layer in model.layers:\n",
        "    #     print (layer.name)\n",
        "\n",
        "\n",
        "    img_height = 300  # Height of the input images\n",
        "    img_width = 300  # Width of the input images\n",
        "    img_channels = 3  # Number of color channels of the input images\n",
        "    subtract_mean = [123, 117, 104]  # The per-channel mean of the images in the dataset\n",
        "    swap_channels = True  # The color channel order in the original SSD is BGR\n",
        "    n_classes = 2  # Number of positive classes, e.g. 20 for Pascal VOC, 80 for MS COCO\n",
        "    scales_voc = [0.1, 0.2, 0.37, 0.54, 0.71, 0.88,\n",
        "                  1.05]  # The anchor box scaling factors used in the original SSD300 for the Pascal VOC datasets\n",
        "    scales_coco = [0.07, 0.15, 0.33, 0.51, 0.69, 0.87,\n",
        "                   1.05]  # The anchor box scaling factors used in the original SSD300 for the MS COCO datasets\n",
        "    scales = scales_coco\n",
        "    aspect_ratios = [[1.0, 2.0, 0.5],\n",
        "                     [1.0, 2.0, 0.5, 3.0, 1.0 / 3.0],\n",
        "                     [1.0, 2.0, 0.5, 3.0, 1.0 / 3.0],\n",
        "                     [1.0, 2.0, 0.5, 3.0, 1.0 / 3.0],\n",
        "                     [1.0, 2.0, 0.5],\n",
        "                     [1.0, 2.0, 0.5]]  # The anchor box aspect ratios used in the original SSD300; the order matters\n",
        "    two_boxes_for_ar1 = True\n",
        "    steps = [8, 16, 32, 64, 100, 300]  # The space between two adjacent anchor box center points for each predictor layer.\n",
        "    offsets = [0.5, 0.5, 0.5, 0.5, 0.5,\n",
        "               0.5]  # The offsets of the first anchor box center points from the top and left borders of the image as a fraction of the step size for each predictor layer.\n",
        "    limit_boxes = False  # Whether or not you want to limit the anchor boxes to lie entirely within the image boundaries\n",
        "    variances = [0.1, 0.1, 0.2,\n",
        "                 0.2]  # The variances by which the encoded target coordinates are scaled as in the original implementation\n",
        "    coords = 'centroids'  # Whether the box coordinates to be used as targets for the model should be in the 'centroids', 'corners', or 'minmax' format, see documentation\n",
        "    normalize_coords = True\n",
        "\n",
        "    # 1: Build the Keras model\n",
        "\n",
        "    K.clear_session()  # Clear previous models from memory.\n",
        "\n",
        "    model = ssd_300(\"training\",\n",
        "                    image_size=(img_height, img_width, img_channels),\n",
        "                    n_classes=n_classes,\n",
        "                    l2_regularization=0.0005,\n",
        "                    scales=scales,\n",
        "                    aspect_ratios_per_layer=aspect_ratios,\n",
        "                    two_boxes_for_ar1=two_boxes_for_ar1,\n",
        "                    steps=steps,\n",
        "                    offsets=offsets,\n",
        "                    limit_boxes=limit_boxes,\n",
        "                    variances=variances,\n",
        "                    coords=coords,\n",
        "                    normalize_coords=normalize_coords,\n",
        "                    subtract_mean=subtract_mean,\n",
        "                    divide_by_stddev=None,\n",
        "                    swap_channels=swap_channels)\n",
        "\n",
        "\n",
        "\n",
        "\n",
        "\n",
        "\n",
        "\n",
        "\n",
        "\n",
        "\n",
        "\n",
        "\n"
      ],
      "execution_count": 0,
      "outputs": [
        {
          "output_type": "error",
          "ename": "ModuleNotFoundError",
          "evalue": "ignored",
          "traceback": [
            "\u001b[0;31m---------------------------------------------------------------------------\u001b[0m",
            "\u001b[0;31mModuleNotFoundError\u001b[0m                       Traceback (most recent call last)",
            "\u001b[0;32m<ipython-input-2-a7a0dff6040f>\u001b[0m in \u001b[0;36m<module>\u001b[0;34m()\u001b[0m\n\u001b[1;32m      6\u001b[0m \u001b[0;32mimport\u001b[0m \u001b[0mkeras\u001b[0m\u001b[0;34m.\u001b[0m\u001b[0mbackend\u001b[0m \u001b[0;32mas\u001b[0m \u001b[0mK\u001b[0m\u001b[0;34m\u001b[0m\u001b[0;34m\u001b[0m\u001b[0m\n\u001b[1;32m      7\u001b[0m \u001b[0;32mimport\u001b[0m \u001b[0mkeras\u001b[0m\u001b[0;34m.\u001b[0m\u001b[0mlayers\u001b[0m \u001b[0;32mas\u001b[0m \u001b[0mKL\u001b[0m\u001b[0;34m\u001b[0m\u001b[0;34m\u001b[0m\u001b[0m\n\u001b[0;32m----> 8\u001b[0;31m \u001b[0;32mfrom\u001b[0m \u001b[0mmodels\u001b[0m\u001b[0;34m.\u001b[0m\u001b[0mdepthwise_conv2d\u001b[0m \u001b[0;32mimport\u001b[0m \u001b[0mDepthwiseConvolution2D\u001b[0m\u001b[0;34m\u001b[0m\u001b[0;34m\u001b[0m\u001b[0m\n\u001b[0m\u001b[1;32m      9\u001b[0m \u001b[0;32mfrom\u001b[0m \u001b[0mkeras\u001b[0m\u001b[0;34m.\u001b[0m\u001b[0mmodels\u001b[0m \u001b[0;32mimport\u001b[0m \u001b[0mModel\u001b[0m\u001b[0;34m\u001b[0m\u001b[0;34m\u001b[0m\u001b[0m\n\u001b[1;32m     10\u001b[0m \u001b[0;32mfrom\u001b[0m \u001b[0mkeras\u001b[0m\u001b[0;34m.\u001b[0m\u001b[0mlayers\u001b[0m \u001b[0;32mimport\u001b[0m \u001b[0mInput\u001b[0m\u001b[0;34m,\u001b[0m \u001b[0mLambda\u001b[0m\u001b[0;34m,\u001b[0m \u001b[0mActivation\u001b[0m\u001b[0;34m,\u001b[0m\u001b[0mConv2D\u001b[0m\u001b[0;34m,\u001b[0m \u001b[0mConvolution2D\u001b[0m\u001b[0;34m,\u001b[0m \u001b[0mMaxPooling2D\u001b[0m\u001b[0;34m,\u001b[0m \u001b[0mZeroPadding2D\u001b[0m\u001b[0;34m,\u001b[0m \u001b[0mReshape\u001b[0m\u001b[0;34m,\u001b[0m \u001b[0mConcatenate\u001b[0m\u001b[0;34m,\u001b[0m\u001b[0mBatchNormalization\u001b[0m\u001b[0;34m,\u001b[0m \u001b[0mAdd\u001b[0m\u001b[0;34m,\u001b[0m \u001b[0mConv2DTranspose\u001b[0m\u001b[0;34m\u001b[0m\u001b[0;34m\u001b[0m\u001b[0m\n",
            "\u001b[0;31mModuleNotFoundError\u001b[0m: No module named 'models'",
            "",
            "\u001b[0;31m---------------------------------------------------------------------------\u001b[0;32m\nNOTE: If your import is failing due to a missing package, you can\nmanually install dependencies using either !pip or !apt.\n\nTo view examples of installing some common dependencies, click the\n\"Open Examples\" button below.\n\u001b[0;31m---------------------------------------------------------------------------\u001b[0m\n"
          ]
        }
      ]
    },
    {
      "cell_type": "code",
      "metadata": {
        "id": "ak7RKU04LhPS",
        "colab_type": "code",
        "colab": {}
      },
      "source": [
        ""
      ],
      "execution_count": 0,
      "outputs": []
    }
  ]
}