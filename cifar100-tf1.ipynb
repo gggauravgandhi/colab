{
  "nbformat": 4,
  "nbformat_minor": 0,
  "metadata": {
    "colab": {
      "name": "cifar100-tf1.ipynb",
      "version": "0.3.2",
      "provenance": [],
      "include_colab_link": true
    },
    "kernelspec": {
      "name": "python3",
      "display_name": "Python 3"
    },
    "accelerator": "TPU"
  },
  "cells": [
    {
      "cell_type": "markdown",
      "metadata": {
        "id": "view-in-github",
        "colab_type": "text"
      },
      "source": [
        "<a href=\"https://colab.research.google.com/github/gggauravgandhi/colab/blob/master/cifar100-tf1.ipynb\" target=\"_parent\"><img src=\"https://colab.research.google.com/assets/colab-badge.svg\" alt=\"Open In Colab\"/></a>"
      ]
    },
    {
      "metadata": {
        "id": "YdBMFueDayUr",
        "colab_type": "text"
      },
      "cell_type": "markdown",
      "source": [
        "## Cifar100 performance on Tensorflow 1    \n",
        "CIFAR100 small images classification dataset"
      ]
    },
    {
      "metadata": {
        "id": "AQLbussPayUs",
        "colab_type": "code",
        "colab": {
          "base_uri": "https://localhost:8080/",
          "height": 35
        },
        "outputId": "8a1b0ed9-45f0-4d8f-b509-e3b4702bad2f"
      },
      "cell_type": "code",
      "source": [
        "import tensorflow as tf\n",
        "print(tf.__version__)"
      ],
      "execution_count": 1,
      "outputs": [
        {
          "output_type": "stream",
          "text": [
            "1.13.1\n"
          ],
          "name": "stdout"
        }
      ]
    },
    {
      "metadata": {
        "id": "n169ekwVayUv",
        "colab_type": "code",
        "colab": {}
      },
      "cell_type": "code",
      "source": [
        "from tensorflow.keras.datasets import fashion_mnist"
      ],
      "execution_count": 0,
      "outputs": []
    },
    {
      "metadata": {
        "id": "ubLCUvH-ayUx",
        "colab_type": "code",
        "colab": {
          "base_uri": "https://localhost:8080/",
          "height": 52
        },
        "outputId": "e802181d-23f8-4bbc-d72d-8875c044cab1"
      },
      "cell_type": "code",
      "source": [
        "(x_train, y_train), (x_test, y_test) = fashion_mnist.load_data()\n",
        "\n",
        "print(f\"x_train shape:{x_train.shape}\")\n",
        "print(f\"y_train shape: {y_train.shape}\")"
      ],
      "execution_count": 7,
      "outputs": [
        {
          "output_type": "stream",
          "text": [
            "x_train shape:(60000, 28, 28)\n",
            "y_train shape: (60000,)\n"
          ],
          "name": "stdout"
        }
      ]
    },
    {
      "metadata": {
        "id": "S_FPfMwkayUz",
        "colab_type": "code",
        "colab": {}
      },
      "cell_type": "code",
      "source": [
        "model = tf.keras.models.Sequential([\n",
        "  tf.keras.layers.Flatten(input_shape=(28, 28)),\n",
        "  tf.keras.layers.Dense(512, activation=tf.nn.relu),\n",
        "  tf.keras.layers.Dropout(rate=0.8),\n",
        "  tf.keras.layers.Dense(10, activation=tf.nn.softmax)\n",
        "])\n",
        "\n",
        "model.compile(optimizer='adam',\n",
        "              loss='sparse_categorical_crossentropy',\n",
        "              metrics=['accuracy'])"
      ],
      "execution_count": 0,
      "outputs": []
    },
    {
      "metadata": {
        "id": "93_UYzBEayU2",
        "colab_type": "code",
        "colab": {
          "base_uri": "https://localhost:8080/",
          "height": 245
        },
        "outputId": "f0fe7ab3-d0cd-4218-f26c-bb1487227569"
      },
      "cell_type": "code",
      "source": [
        "%%time \n",
        "\n",
        "model.fit(x_train, y_train, epochs=5)\n",
        "\n",
        "model.evaluate(x_test, y_test)"
      ],
      "execution_count": 11,
      "outputs": [
        {
          "output_type": "stream",
          "text": [
            "Epoch 1/5\n",
            "60000/60000 [==============================] - 17s 291us/sample - loss: 11.9178 - acc: 0.2604\n",
            "Epoch 2/5\n",
            "60000/60000 [==============================] - 17s 291us/sample - loss: 11.8296 - acc: 0.2659\n",
            "Epoch 3/5\n",
            "60000/60000 [==============================] - 17s 290us/sample - loss: 11.0047 - acc: 0.3171\n",
            "Epoch 4/5\n",
            "60000/60000 [==============================] - 17s 286us/sample - loss: 10.9160 - acc: 0.3226\n",
            "Epoch 5/5\n",
            "60000/60000 [==============================] - 18s 297us/sample - loss: 10.6893 - acc: 0.3368\n",
            "10000/10000 [==============================] - 1s 58us/sample - loss: 8.7155 - acc: 0.4591\n",
            "CPU times: user 2min 18s, sys: 8.5 s, total: 2min 26s\n",
            "Wall time: 1min 27s\n"
          ],
          "name": "stdout"
        }
      ]
    }
  ]
}